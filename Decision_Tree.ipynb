{
 "cells": [
  {
   "cell_type": "markdown",
   "metadata": {},
   "source": [
    "# Decision Tree"
   ]
  },
  {
   "cell_type": "code",
   "execution_count": 1,
   "metadata": {
    "collapsed": true
   },
   "outputs": [],
   "source": [
    "## Author : Nikhil Tarte\n",
    "## Contact: nikhilttarte@gmail.com\n",
    "\n",
    "## Date: 13 March 2017\n",
    "\n",
    "## \n",
    "#  Implementation of Decision Tree\n",
    "#  Implement it on iris Dataset\n",
    "##"
   ]
  },
  {
   "cell_type": "markdown",
   "metadata": {},
   "source": [
    "Imports"
   ]
  },
  {
   "cell_type": "code",
   "execution_count": 2,
   "metadata": {
    "collapsed": true
   },
   "outputs": [],
   "source": [
    "import numpy as np\n",
    "import pandas as pd\n",
    "from scipy.stats import mode"
   ]
  },
  {
   "cell_type": "markdown",
   "metadata": {},
   "source": [
    "Dataset Import"
   ]
  },
  {
   "cell_type": "code",
   "execution_count": 3,
   "metadata": {
    "collapsed": false
   },
   "outputs": [],
   "source": [
    "from sklearn.datasets import load_iris"
   ]
  },
  {
   "cell_type": "markdown",
   "metadata": {},
   "source": [
    "Decision Node Class"
   ]
  },
  {
   "cell_type": "code",
   "execution_count": 4,
   "metadata": {
    "collapsed": true
   },
   "outputs": [],
   "source": [
    "class DecisionNode:\n",
    "    def __init__(self, attributeName, attributeColNum,conditionThreshod):\n",
    "        self.attributeName = attributeName\n",
    "        self.attributeColNum = attributeColNum\n",
    "        self.conditionThreshod = conditionThreshod\n",
    "        self.leftNode = None\n",
    "        self.rightNode = None\n",
    "        self.className = None\n",
    "        self.classified_in = -1"
   ]
  },
  {
   "cell_type": "markdown",
   "metadata": {},
   "source": [
    "Dataset Format as Needed"
   ]
  },
  {
   "cell_type": "code",
   "execution_count": 5,
   "metadata": {
    "collapsed": false,
    "scrolled": true
   },
   "outputs": [],
   "source": [
    "#To Append Source and Target in One DataFrame with some additional Arrribures\n",
    "#Retrun :: dataset, numRows,numCols, targetColNum, attribureNames, classNames\n",
    "#Node: Dataset may not have Features names Col, to be adjusted as per Dataset\n",
    "def styleDataset(sourceDataset):\n",
    "    resultDataset = []\n",
    "    dataframe = pd.DataFrame(sourceDataset.data)\n",
    "    m,n = dataframe.shape\n",
    "    for i in range(n):\n",
    "        resultDataset.append(dataframe[i])\n",
    "    resultDataset.append(pd.DataFrame(sourceDataset.target)[0])\n",
    "        \n",
    "    resultDataset = pd.DataFrame(np.array(resultDataset).T)\n",
    "    m,n = resultDataset.shape\n",
    "    return resultDataset, m, n-1, n-1, sourceDataset.feature_names, sourceDataset.target_names"
   ]
  },
  {
   "cell_type": "code",
   "execution_count": 6,
   "metadata": {
    "collapsed": true
   },
   "outputs": [],
   "source": [
    "#For Ease getsing all Attributes.\n",
    "numRows = -1\n",
    "numCols = -1\n",
    "targetClasses = -1\n",
    "targetColNum = -1\n",
    "attribureNames = []\n",
    "classNames = []\n",
    "def initilize(dataset):\n",
    "    global numRows, numCols, targetClasses, targetColNum, attribureNames, classNames\n",
    "    dataset, numRows,numCols, targetColNum, attribureNames, classNames = styleDataset(dataset)\n",
    "    targetClasses = np.array(dataset[targetColNum].unique())    \n",
    "    return dataset"
   ]
  },
  {
   "cell_type": "markdown",
   "metadata": {},
   "source": [
    "Entropy Calcuation\n",
    "<p>Finding Entropy as per given Dataset wrt Classes"
   ]
  },
  {
   "cell_type": "code",
   "execution_count": 7,
   "metadata": {
    "collapsed": false
   },
   "outputs": [],
   "source": [
    "def entropy(dataset):\n",
    "    classesCount = []\n",
    "    Entropy = 0.0\n",
    "    for Class in targetClasses:\n",
    "        classesCount.append(len(dataset[dataset[targetColNum] == Class]))\n",
    "    \n",
    "    totalClasses = float(len(dataset))\n",
    "    for classCount in classesCount:\n",
    "        if classCount != 0:\n",
    "            Entropy += (-1) * (classCount/totalClasses) * np.log2(classCount/totalClasses)\n",
    "    return Entropy"
   ]
  },
  {
   "cell_type": "markdown",
   "metadata": {},
   "source": [
    "Information gain"
   ]
  },
  {
   "cell_type": "code",
   "execution_count": 8,
   "metadata": {
    "collapsed": true
   },
   "outputs": [],
   "source": [
    "#Retrun: Selected Column after Gain Calcuation\n",
    "def informationGain(dataset, alreadyVisitedClass):\n",
    "    rootEntropy = entropy(dataset)\n",
    "    datasetMedian = np.median(dataset, axis=0)\n",
    "    entropyD = []\n",
    "    for colNum in range(numCols):\n",
    "        if (not alreadyVisitedClass[colNum]) and len(dataset) > 0:\n",
    "            Entropy = (len(dataset[(dataset[colNum] < datasetMedian[colNum])])/float(len(dataset))) * entropy(dataset[(dataset[colNum] < datasetMedian[colNum])]) + (len(dataset[(dataset[colNum] >= datasetMedian[colNum])])/float(len(dataset))) * entropy(dataset[(dataset[colNum] >= datasetMedian[colNum])])\n",
    "        else:\n",
    "            Entropy = float(\"inf\")\n",
    "        entropyD.append(Entropy)\n",
    "        \n",
    "    InformationGain = np.array(rootEntropy) - entropyD\n",
    "    return InformationGain, np.argmax(InformationGain), datasetMedian[np.argmax(InformationGain)]"
   ]
  },
  {
   "cell_type": "markdown",
   "metadata": {},
   "source": [
    "Decision Tree Construct Function\n"
   ]
  },
  {
   "cell_type": "code",
   "execution_count": 9,
   "metadata": {
    "collapsed": true
   },
   "outputs": [],
   "source": [
    "#Intial input Arguments : Dataset, None, None\n",
    "def makeDecisionTree(dataset, decisionNode, visitedClasses):\n",
    "    if visitedClasses is None:\n",
    "        visitedClasses = np.repeat(False, numCols)\n",
    "    \n",
    "    information_gain, attrColNum, info_threshod = informationGain(dataset, visitedClasses)\n",
    "    visitedClasses[attrColNum] = True\n",
    "    \n",
    "    decisionNode = DecisionNode(attribureNames[attrColNum], attrColNum, info_threshod)\n",
    "    \n",
    "    \n",
    "    if visitedClasses.all() or (len(np.array(dataset[targetColNum].unique())) <= 1):\n",
    "        if len(dataset[0]) > 0:\n",
    "            decisionNode.className = classNames[int(mode(dataset[targetColNum]).mode)]\n",
    "            decisionNode.classified_in = int(mode(dataset[targetColNum]).mode)\n",
    "    else:\n",
    "        splitData_True  = dataset[(dataset[attrColNum] < info_threshod)]\n",
    "        splitData_False = dataset[(dataset[attrColNum] >= info_threshod)]\n",
    "        \n",
    "        decisionNode.leftNode = makeDecisionTree(splitData_True, decisionNode, np.array(visitedClasses))\n",
    "        decisionNode.rightNode = makeDecisionTree(splitData_False, decisionNode, np.array(visitedClasses))\n",
    "        \n",
    "    return decisionNode    "
   ]
  },
  {
   "cell_type": "markdown",
   "metadata": {},
   "source": [
    "Predicting / Making Decisions"
   ]
  },
  {
   "cell_type": "code",
   "execution_count": 10,
   "metadata": {
    "collapsed": false
   },
   "outputs": [],
   "source": [
    "#Decide based on the input data array [1-D] and Tree obtained by makeDecisionTree(...)\n",
    "def makeDecision(data, decisionTree):\n",
    "    while True:\n",
    "        if data[decisionTree.attributeColNum] < decisionTree.conditionThreshod:\n",
    "            decisionTree = decisionTree.leftNode\n",
    "        else:\n",
    "            decisionTree = decisionTree.rightNode\n",
    "        \n",
    "        if decisionTree.className is not None:\n",
    "            break\n",
    "    return decisionTree.classified_in"
   ]
  },
  {
   "cell_type": "markdown",
   "metadata": {},
   "source": [
    "Determining Accuracy based on the Dataset Tree Output and Actual Output"
   ]
  },
  {
   "cell_type": "code",
   "execution_count": 11,
   "metadata": {
    "collapsed": false
   },
   "outputs": [],
   "source": [
    "#Return: Accuracy Count, Percentage between [0.00-1.00]\n",
    "def accuracy(dataset, DTree):\n",
    "    cnt = 0\n",
    "    for i in range(len(dataset)):\n",
    "        if makeDecision(dataset.loc[i],DTree) == int(dataset.loc[i][targetColNum]):\n",
    "            cnt += 1\n",
    "    return cnt, cnt/float(len(dataset)) "
   ]
  },
  {
   "cell_type": "markdown",
   "metadata": {},
   "source": [
    "Printing Decision Tree"
   ]
  },
  {
   "cell_type": "code",
   "execution_count": 12,
   "metadata": {
    "collapsed": true
   },
   "outputs": [],
   "source": [
    "#Printing the Decisio Tree\n",
    "def printTree(tree,indent='\\t'):\n",
    "    # Is this a leaf node?\n",
    "    if tree.className!=None:\n",
    "        print str(tree.className) + '[' + str(tree.classified_in) + ']'\n",
    "    else:\n",
    "        # Print the criteria\n",
    "        print str(tree.attributeName) + '[' + str(tree.attributeColNum)+'] < '+str(tree.conditionThreshod)+'? '\n",
    "\n",
    "        # Print the branches\n",
    "        print indent+'True->',\n",
    "        printTree(tree.leftNode,indent+'\\t')\n",
    "        print indent+'False->',\n",
    "        printTree(tree.rightNode,indent+'\\t')"
   ]
  },
  {
   "cell_type": "code",
   "execution_count": 13,
   "metadata": {
    "collapsed": false
   },
   "outputs": [],
   "source": [
    "#Plot Tree\n",
    "from PIL import Image,ImageDraw\n",
    "from IPython.core.display import Image as I, display \n",
    "\n",
    "\n",
    "def getTreeWidth(tree):\n",
    "    if tree.className is None:\n",
    "        width = getTreeWidth(tree.leftNode) + getTreeWidth(tree.rightNode)\n",
    "    else:\n",
    "        return 1\n",
    "    return width\n",
    "        \n",
    "\n",
    "def drawtree(tree,jpeg='tree.jpg'):\n",
    "    w= getTreeWidth(tree)*100+ 70\n",
    "    h= getTreeWidth(tree)*70\n",
    "\n",
    "    img=Image.new('RGB',(w,h),(255,255,255))\n",
    "    draw=ImageDraw.Draw(img)\n",
    "\n",
    "    drawnode(draw,tree,w/2,20)\n",
    "    img.save(jpeg,'JPEG')\n",
    "    display(I('tree.jpg', width=900, unconfined=True))\n",
    "\n",
    "\n",
    "def drawnode(draw,tree,x,y):\n",
    "    if tree.className==None:\n",
    "        # Get the width of each branch\n",
    "        w1=getTreeWidth(tree.leftNode)*100\n",
    "        w2=getTreeWidth(tree.rightNode)*100\n",
    "\n",
    "        # Determine the total space required by this node\n",
    "        left=x-(w1+w2)/2\n",
    "        right=x+(w1+w2)/2\n",
    "\n",
    "        # Draw the condition string\n",
    "        draw.text((x-20,y-10),str(tree.attributeName) + '[' + str(tree.attributeColNum)+'] < '+str(tree.conditionThreshod)+'? ',(0,0,0))\n",
    "        # Draw links to the branches\n",
    "        draw.line((x,y,left+w1/2,y+100),fill=(0,255,0))\n",
    "        draw.line((x,y,right-w2/2,y+100),fill=(0,255,0))\n",
    "    \n",
    "        # Draw the branch nodes\n",
    "        drawnode(draw,tree.leftNode,left+w1/2,y+100)\n",
    "        drawnode(draw,tree.rightNode,right-w2/2,y+100)\n",
    "    else:\n",
    "        txt= str(tree.className) + '[' + str(tree.classified_in) + ']'\n",
    "        draw.text((x-20,y),txt,(0,0,0))"
   ]
  },
  {
   "cell_type": "markdown",
   "metadata": {},
   "source": [
    "Dataset Loading and Constructing Decsion Tree"
   ]
  },
  {
   "cell_type": "code",
   "execution_count": 14,
   "metadata": {
    "collapsed": false
   },
   "outputs": [],
   "source": [
    "irisDataset = load_iris()"
   ]
  },
  {
   "cell_type": "code",
   "execution_count": 15,
   "metadata": {
    "collapsed": false
   },
   "outputs": [],
   "source": [
    "d = initilize(irisDataset)\n",
    "#DTree is the Resulatant Tree as a Decision Tree Root Node, with Full Connectivity.\n",
    "DTree = makeDecisionTree(d, None, None)"
   ]
  },
  {
   "cell_type": "code",
   "execution_count": 16,
   "metadata": {
    "collapsed": false
   },
   "outputs": [
    {
     "data": {
      "text/plain": [
       "(141, 0.94)"
      ]
     },
     "execution_count": 16,
     "metadata": {},
     "output_type": "execute_result"
    }
   ],
   "source": [
    "#Checking Accutacy\n",
    "accuracy(d,DTree)"
   ]
  },
  {
   "cell_type": "code",
   "execution_count": 17,
   "metadata": {
    "collapsed": false
   },
   "outputs": [
    {
     "name": "stdout",
     "output_type": "stream",
     "text": [
      "petal width (cm)[3] < 1.3? \n",
      "\tTrue-> sepal width (cm)[1] < 3.2? \n",
      "\t\tTrue-> petal length (cm)[2] < 3.15? \n",
      "\t\t\tTrue-> setosa[0]\n",
      "\t\t\tFalse-> versicolor[1]\n",
      "\t\tFalse-> setosa[0]\n",
      "\tFalse-> petal length (cm)[2] < 5.0? \n",
      "\t\tTrue-> sepal width (cm)[1] < 2.9? \n",
      "\t\t\tTrue-> versicolor[1]\n",
      "\t\t\tFalse-> versicolor[1]\n",
      "\t\tFalse-> sepal width (cm)[1] < 3.0? \n",
      "\t\t\tTrue-> virginica[2]\n",
      "\t\t\tFalse-> virginica[2]\n"
     ]
    }
   ],
   "source": [
    "#Printing Tree\n",
    "printTree(DTree)"
   ]
  },
  {
   "cell_type": "code",
   "execution_count": 18,
   "metadata": {
    "collapsed": false
   },
   "outputs": [
    {
     "data": {
      "image/jpeg": "[encoded data removed]",
      "text/plain": [
       "<IPython.core.display.Image object>"
      ]
     },
     "metadata": {
      "image/jpeg": {
       "unconfined": true,
       "width": 900
      }
     },
     "output_type": "display_data"
    }
   ],
   "source": [
    "drawtree(DTree)"
   ]
  }
 ],
 "metadata": {
  "anaconda-cloud": {},
  "kernelspec": {
   "display_name": "Python [conda root]",
   "language": "python",
   "name": "conda-root-py"
  },
  "language_info": {
   "codemirror_mode": {
    "name": "ipython",
    "version": 2
   },
   "file_extension": ".py",
   "mimetype": "text/x-python",
   "name": "python",
   "nbconvert_exporter": "python",
   "pygments_lexer": "ipython2",
   "version": "2.7.12"
  }
 },
 "nbformat": 4,
 "nbformat_minor": 1
}
